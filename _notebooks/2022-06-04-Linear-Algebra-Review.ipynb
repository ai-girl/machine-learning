{
 "cells": [
  {
   "cell_type": "markdown",
   "id": "947526a9",
   "metadata": {},
   "source": [
    "# Linear Algebra - A review\n",
    "> Linear Algebra - A review.\n",
    "\n",
    "- toc: true \n",
    "- badges: true\n",
    "- comments: true\n",
    "- categories: [jupyter]"
   ]
  },
  {
   "cell_type": "markdown",
   "id": "3da17556",
   "metadata": {},
   "source": [
    "{% raw %}\n",
    "$$\n",
    "\\begin{aligned}\n",
    "y &= x^2 \\\\\n",
    "&= x \\cdot x\n",
    "\\end{aligned}\n",
    "$$\n",
    "{% endraw %}"
   ]
  },
  {
   "cell_type": "markdown",
   "id": "79635363",
   "metadata": {},
   "source": [
    "Linear algebra is the study of vectors and certain rules to manipulate vectors.\n",
    "\n",
    "In general, vectors are special objects that can be added together and multiplied by scalars to produce another object of the same kind. From an abstract mathematical viewpoint, any object that satisfies these two properties can be considered a vector."
   ]
  },
  {
   "cell_type": "markdown",
   "id": "863c1c8b",
   "metadata": {},
   "source": [
    "## Systems of Linear Equations"
   ]
  },
  {
   "cell_type": "markdown",
   "id": "c067da5c",
   "metadata": {},
   "source": [
    "## Matrices"
   ]
  },
  {
   "cell_type": "code",
   "execution_count": null,
   "id": "6bcd77f7",
   "metadata": {},
   "outputs": [],
   "source": []
  }
 ],
 "metadata": {
  "kernelspec": {
   "display_name": "Python 3 (ipykernel)",
   "language": "python",
   "name": "python3"
  },
  "language_info": {
   "codemirror_mode": {
    "name": "ipython",
    "version": 3
   },
   "file_extension": ".py",
   "mimetype": "text/x-python",
   "name": "python",
   "nbconvert_exporter": "python",
   "pygments_lexer": "ipython3",
   "version": "3.9.7"
  }
 },
 "nbformat": 4,
 "nbformat_minor": 5
}
