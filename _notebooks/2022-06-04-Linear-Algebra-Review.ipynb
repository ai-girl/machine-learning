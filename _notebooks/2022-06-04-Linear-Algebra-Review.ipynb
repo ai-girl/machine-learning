{
 "cells": [
  {
   "cell_type": "markdown",
   "id": "cb4dc260",
   "metadata": {},
   "source": [
    "# Linear Algebra - A review\n",
    "> Linear Algebra - A review.\n",
    "\n",
    "- toc: true \n",
    "- badges: true\n",
    "- comments: true\n",
    "- categories: [jupyter]"
   ]
  },
  {
   "cell_type": "markdown",
   "id": "880acd4d",
   "metadata": {},
   "source": [
    "{% raw %}\n",
    "$$\n",
    "\\begin{aligned}\n",
    "y &= x^2 \\\\\n",
    "&= x \\cdot x\n",
    "\\end{aligned}\n",
    "$$\n",
    "{% endraw %}"
   ]
  },
  {
   "cell_type": "code",
   "execution_count": null,
   "id": "135667a7",
   "metadata": {},
   "outputs": [],
   "source": []
  }
 ],
 "metadata": {
  "kernelspec": {
   "display_name": "Python 3 (ipykernel)",
   "language": "python",
   "name": "python3"
  },
  "language_info": {
   "codemirror_mode": {
    "name": "ipython",
    "version": 3
   },
   "file_extension": ".py",
   "mimetype": "text/x-python",
   "name": "python",
   "nbconvert_exporter": "python",
   "pygments_lexer": "ipython3",
   "version": "3.9.7"
  }
 },
 "nbformat": 4,
 "nbformat_minor": 5
}
